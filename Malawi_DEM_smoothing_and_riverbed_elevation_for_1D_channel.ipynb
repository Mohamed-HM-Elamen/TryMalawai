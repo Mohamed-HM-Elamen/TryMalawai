{
 "metadata": {
  "name": "",
  "signature": "sha256:e0da5d0948206ace07a49374b2376eea2ee34c903f60b4d5091eff46e7ff8d27"
 },
 "nbformat": 3,
 "nbformat_minor": 0,
 "worksheets": [
  {
   "cells": [
    {
     "cell_type": "markdown",
     "metadata": {},
     "source": [
      "To be updated once the method is finalized in the test notebook!"
     ]
    },
    {
     "cell_type": "code",
     "collapsed": false,
     "input": [],
     "language": "python",
     "metadata": {},
     "outputs": []
    }
   ],
   "metadata": {}
  }
 ]
}