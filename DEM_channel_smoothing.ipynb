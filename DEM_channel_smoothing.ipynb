{
 "metadata": {
  "name": "",
  "signature": "sha256:8dd385626b154861260a8c0e7155f13c26c80a13bfa5ba49bc5711bd6a6916e8"
 },
 "nbformat": 3,
 "nbformat_minor": 0,
 "worksheets": [
  {
   "cells": [
    {
     "cell_type": "markdown",
     "metadata": {},
     "source": [
      "This notebook explores the options for smoothing specific streamline(s) in a DEM, i.e. making sure that there are no (troublesome) increases in elevation along the streamline in a downstream direction.\n",
      "\n",
      "Several approaches can be thought of:\n",
      "1. smoothing from one (or more) specified upstream points to the most downstream end\n",
      "2. smoothing a predefined channel network\n",
      "3. smoothing all possible flowpaths in a DEM\n",
      "\n",
      "The above options can be done by (a) first deriving an LDD from the DEM and use the LDD to dictate directions, or by (b) deriving directions directly from the DEM itself. Both options have their own (dis)advantages.\n",
      "\n",
      "- Option a:\n",
      "    - easiest approach to obtain flow directions, by letting the LDD algorithm handle this\n",
      "    - have to consider different LDD formats\n",
      "    - harder to choose between D4 and D8 flow directions (one might be more suitable than the other for the model that will ultimately be using the DEM, although this is mostly an issue because I haven't found a good D4 LDD algorithm yet...I did write one myself that could be used though, but that might not have all the functionalities of other, more sophisticated LDD algorithms!)\n",
      "    - requires the LDD to be correct already, or requires a way to correct it here (e.g. if the LDD does not flow to the correct outflow point, it will be hard to smooth the channel to this point...)\n",
      "    - ...\n",
      "- Option b:\n",
      "    - somewhat more difficult to obtain flow directions (although it would be possible to build in all features of LDD algorithms, this would seriously increase the work load and this has therefore not been done yet)\n",
      "    - no need to consider different LDD formats\n",
      "    - easier to choose between D4 and D8 flow directions (although here the same issue arrises as before; a lot less functionality than already existing LDD algorithms!)\n",
      "    - ...\n",
      "    \n",
      "This notebook will start with DEM smoothing using approach 1/2 and option a."
     ]
    },
    {
     "cell_type": "code",
     "collapsed": false,
     "input": [
      "# Required libraries\n",
      "import os\n",
      "import numpy as np\n",
      "import pcraster as pcr\n",
      "\n",
      "import matplotlib\n",
      "import matplotlib.pyplot as plt"
     ],
     "language": "python",
     "metadata": {},
     "outputs": [],
     "prompt_number": 1
    },
    {
     "cell_type": "code",
     "collapsed": false,
     "input": [
      "# Figure settings\n",
      "%matplotlib inline\n",
      "matplotlib.pylab.rcParams['figure.figsize'] = (20.0, 9.0)"
     ],
     "language": "python",
     "metadata": {},
     "outputs": [],
     "prompt_number": 2
    },
    {
     "cell_type": "code",
     "collapsed": false,
     "input": [
      "# Load DEM and LDD maps and convert to numpy arrays\n",
      "DEM_path_original = r\"D:\\haag\\Files\\Projects\\RASOR\\Casestudy_Malawi\\data\\DEM\\SRTM_90m\\SRTM_90m_Malawi_NorthRukuru_selection_lakeNoData.map\"\n",
      "LDD_path_original = r\"D:\\haag\\Files\\Projects\\RASOR\\Casestudy_Malawi\\data\\LDD\\LDD_TEST_SRTM_90m_NorthRukuru_selection_burn_10_5_shore0_edit.map\"\n",
      "\n",
      "DEM_map_original  = pcr.readmap(DEM_path_original)\n",
      "LDD_map_original  = pcr.readmap(LDD_path_original)\n",
      "\n",
      "DEM_NoData = -999\n",
      "LDD_NoData = 255\n",
      "\n",
      "DEM_np_original   = pcr.pcr2numpy(DEM_map_original, DEM_NoData)\n",
      "LDD_np_original   = pcr.pcr2numpy(LDD_map_original, LDD_NoData)"
     ],
     "language": "python",
     "metadata": {},
     "outputs": [],
     "prompt_number": 3
    },
    {
     "cell_type": "code",
     "collapsed": false,
     "input": [],
     "language": "python",
     "metadata": {},
     "outputs": [],
     "prompt_number": 0
    },
    {
     "cell_type": "code",
     "collapsed": false,
     "input": [],
     "language": "python",
     "metadata": {},
     "outputs": [],
     "prompt_number": 0
    },
    {
     "cell_type": "code",
     "collapsed": false,
     "input": [],
     "language": "python",
     "metadata": {},
     "outputs": [],
     "prompt_number": 0
    },
    {
     "cell_type": "code",
     "collapsed": false,
     "input": [],
     "language": "python",
     "metadata": {},
     "outputs": [],
     "prompt_number": 0
    },
    {
     "cell_type": "code",
     "collapsed": false,
     "input": [],
     "language": "python",
     "metadata": {},
     "outputs": [],
     "prompt_number": 0
    },
    {
     "cell_type": "code",
     "collapsed": false,
     "input": [],
     "language": "python",
     "metadata": {},
     "outputs": [],
     "prompt_number": 0
    },
    {
     "cell_type": "code",
     "collapsed": false,
     "input": [],
     "language": "python",
     "metadata": {},
     "outputs": [],
     "prompt_number": 0
    },
    {
     "cell_type": "code",
     "collapsed": false,
     "input": [],
     "language": "python",
     "metadata": {},
     "outputs": [],
     "prompt_number": 0
    },
    {
     "cell_type": "code",
     "collapsed": false,
     "input": [],
     "language": "python",
     "metadata": {},
     "outputs": [],
     "prompt_number": 0
    },
    {
     "cell_type": "code",
     "collapsed": false,
     "input": [],
     "language": "python",
     "metadata": {},
     "outputs": [],
     "prompt_number": 0
    },
    {
     "cell_type": "code",
     "collapsed": false,
     "input": [],
     "language": "python",
     "metadata": {},
     "outputs": [],
     "prompt_number": 0
    },
    {
     "cell_type": "code",
     "collapsed": false,
     "input": [],
     "language": "python",
     "metadata": {},
     "outputs": []
    }
   ],
   "metadata": {}
  }
 ]
}