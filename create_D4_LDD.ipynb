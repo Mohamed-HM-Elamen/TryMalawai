{
 "metadata": {
  "name": "",
  "signature": "sha256:814caf70f18eac1330a52e74a53bd745cff86e6b1e1b4089951ee2fd8a6e9fbc"
 },
 "nbformat": 3,
 "nbformat_minor": 0,
 "worksheets": [
  {
   "cells": [
    {
     "cell_type": "markdown",
     "metadata": {},
     "source": [
      "This notebook shows the creation of a four-directional (D4) Local Drain Direction map (LDD) from a preprocessed Digital Elevation Model (DEM) and the coordinates of the outflow point.\n",
      "\n",
      "See http://pcraster.geo.uu.nl/pcraster/4.0.2/doc/manual/secdatbase.html#formldd for more information on the LDD datatype as it is used in PCRaster."
     ]
    },
    {
     "cell_type": "heading",
     "level": 3,
     "metadata": {},
     "source": [
      "Introduction"
     ]
    },
    {
     "cell_type": "markdown",
     "metadata": {},
     "source": [
      "The D4 LDD does not contain the diagional directions (e.g. up-left or north-west) that the more standard D8 LDD has. This can be useful when corrections need to be applied on a map that is to be used with a model in which the flow of water is also limited to these four directions. Certain hydrodynamic models, e.g. 3Di or D-Flow Flexible Mesh using a rectangle-based grid, are examples of such models. When corrections (e.g. stream burning) are applied on a DEM these need to take into account the workings of the model with which the DEM will be used. For example, if stream burning is carried out using a D8 while the model would be better represented by a D4, this can lead to 'bumps' in the flow path of the model. This is illustrated in the 'figures' below, using a very simplistic burning of 2 meters:"
     ]
    },
    {
     "cell_type": "raw",
     "metadata": {},
     "source": [
      "Original DEM:      D8 LDD:            DEM burned D8:     D4 LDD:            DEM burned D4:\n",
      "[9][9][9][9][8]    [ ][ ][ ][ ][/]    [9][9][9][9][6]    [ ][ ][ ][ ][|]    [9][9][9][9][6]\n",
      "[8][7][9][7][8]    [-][\\][ ][/][ ]    [6][5][9][5][8]    [-][|][ ][|][-]    [6][5][9][5][6]\n",
      "[8][8][6][8][8]    [ ][ ][|][ ][ ]    [8][8][4][8][8]    [ ][-][|][-][ ]    [8][6][4][6][8]\n",
      "[7][7][5][7][7]    [ ][ ][\\][ ][ ]    [7][7][3][7][7]    [ ][ ][|][ ][ ]    [7][7][3][7][7]\n",
      "[7][6][6][4][3]    [ ][ ][ ][-][-]    [7][6][6][2][1]    [ ][ ][-][-][-]    [7][6][4][2][1]"
     ]
    },
    {
     "cell_type": "markdown",
     "metadata": {},
     "source": [
      "It can be seen that the DEM burned using the D8 LDD would not work well for a model that cannot use diagonal directions. The DEM that is burned using the D4 LDD gives better results, although there are still some small 'bumps' present. These are actually quite realistic as a DEM is not a perfect representation of reality and the applied burning was very simplistic. These 'bumps' could be removed using some kind of smoothing combined with the burning, which would then result in a DEM with continously decreasing flowpaths with the same directions as used in the final hydrodynamic model."
     ]
    },
    {
     "cell_type": "heading",
     "level": 3,
     "metadata": {},
     "source": [
      "Preprocessed DEM"
     ]
    },
    {
     "cell_type": "markdown",
     "metadata": {},
     "source": [
      "The code in its current state requires a preprocessed DEM, which only includes grid values in cells that contain (a part of) the stream network. This could for example be done in a GIS program. The reason behind this is that this automatically forces the LDD in (approximately) the right direction, as the code is still very simplistic and does not include any 'advanced' methods for the construction of an LDD, such as filling, breaching, etc. Without this preprocessing, it could lead to large errors, especially in flat areas in which the direction of the main flow is hard to determine. An example of such a preprocessed DEM is shown in the 'figures' below:"
     ]
    },
    {
     "cell_type": "raw",
     "metadata": {},
     "source": [
      "Original:          Adjusted:\n",
      "[9][9][9][9][8]    [-][-][-][-][8]\n",
      "[8][7][9][7][8]    [8][7][9][7][8]\n",
      "[8][8][6][8][8]    [-][8][6][8][-]\n",
      "[7][7][5][7][7]    [-][-][5][7][-]\n",
      "[7][6][6][4][3]    [-][-][6][4][3]"
     ]
    },
    {
     "cell_type": "markdown",
     "metadata": {},
     "source": [
      "This could for example be obtained by using the following steps:\n",
      "- create a polygon vectorgrid of the same resolution and extent as the DEM\n",
      "- extract from this vectorgrid only the polygons which are overlapped by the stream network (a line shapefile most likely)\n",
      "- convert this extracted vectorgrid to a raster, and make sure that all relevant cells have a value of 1 and the rest is NoData\n",
      "- use the raster calculator to multiply that raster with the original DEM"
     ]
    },
    {
     "cell_type": "heading",
     "level": 3,
     "metadata": {},
     "source": [
      "The code"
     ]
    },
    {
     "cell_type": "markdown",
     "metadata": {},
     "source": [
      "It is assumed that the coordinates of the outflow point are known:"
     ]
    },
    {
     "cell_type": "code",
     "collapsed": false,
     "input": [
      "outflow_coords = [[778762.9702335183, 9232591.901175093]]"
     ],
     "language": "python",
     "metadata": {},
     "outputs": [],
     "prompt_number": 1
    },
    {
     "cell_type": "code",
     "collapsed": false,
     "input": [
      "# Required libraries\n",
      "import os                                                       # only used to check if path exists\n",
      "import numpy as np                                              # required for code\n",
      "import pcraster as pcr                                          # required for code\n",
      "import matplotlib                                               # only used to show plots here\n",
      "import matplotlib.pyplot as plt                                 # only used to more easily call plots\n",
      "\n",
      "from my_spatial_functions import pcr_spatial_functions          # required for code"
     ],
     "language": "python",
     "metadata": {},
     "outputs": [],
     "prompt_number": 2
    },
    {
     "cell_type": "code",
     "collapsed": false,
     "input": [
      "# Settings\n",
      "\n",
      "# define LDD values\n",
      "LDD_value_y_plus1 = 8\n",
      "LDD_value_y_min1  = 2\n",
      "LDD_value_x_plus1 = 4\n",
      "LDD_value_x_min1  = 6\n",
      "LDD_value_pit     = 5\n",
      "\n",
      "# path to store new LDD .map file\n",
      "output_path_D4_LDD = r\"D:\\haag\\Files\\Projects\\RASOR\\Casestudy_Indonesia\\DEM_burning\\smoothing\\LDD_D4_TEMP.map\"\n",
      "\n",
      "# path to DEM\n",
      "DEM_path = r\"D:\\haag\\Files\\Projects\\RASOR\\Casestudy_Indonesia\\DEM_burning\\smoothing\\dem_from_vectorgrid_reach_total_v2_stream_only.map\"\n",
      "\n",
      "# plot size\n",
      "matplotlib.pylab.rcParams['figure.figsize'] = (20.0, 9.0)\n",
      "\n",
      "# iteration value of while-loop used in LDD creation algorithm that will stop the loop if exceeded (to prevent a potential infinity loop)\n",
      "break_count = 20000\n",
      "\n",
      "# show if path exists\n",
      "print 'DEM path:', os.path.exists(DEM_path)\n",
      "print ''\n",
      "\n",
      "# show LDD directions based on defined values\n",
      "print 'LDD directions:'\n",
      "print '[-]['+str(LDD_value_y_plus1)+'][-]'\n",
      "print '['+str(LDD_value_x_plus1)+']['+str(LDD_value_pit)+']['+str(LDD_value_x_min1)+']'\n",
      "print '[-]['+str(LDD_value_y_min1)+'][-]'"
     ],
     "language": "python",
     "metadata": {},
     "outputs": [
      {
       "output_type": "stream",
       "stream": "stdout",
       "text": [
        "DEM path: True\n",
        "\n",
        "LDD directions:\n",
        "[-][8][-]\n",
        "[4][5][6]\n",
        "[-][2][-]\n"
       ]
      }
     ],
     "prompt_number": 3
    },
    {
     "cell_type": "code",
     "collapsed": false,
     "input": [
      "# Load data\n",
      "\n",
      "# read DEM\n",
      "DEM_map      = pcr.readmap(DEM_path)\n",
      "\n",
      "# convert DEM to numpy array\n",
      "DEM_np = pcr.pcr2numpy(DEM_map, -999)\n",
      "\n",
      "# create landmask\n",
      "landmask_map = pcr_spatial_functions.createLandmaskFromMap(DEM_map)"
     ],
     "language": "python",
     "metadata": {},
     "outputs": [],
     "prompt_number": 4
    },
    {
     "cell_type": "code",
     "collapsed": false,
     "input": [
      "# Get relevant coords and indices\n",
      "\n",
      "# get coords of all cells\n",
      "all_cell_coords         = pcr_spatial_functions.getAllCellCoords(landmask_map)\n",
      "\n",
      "# find the outflow point cell\n",
      "outflow_index_single = pcr_spatial_functions.findCellsContainingPoints(all_cell_coords, outflow_coords)\n",
      "\n",
      "# convert array with single indices to double indices\n",
      "outflow_index_double = pcr_spatial_functions.convertSingleMapIndicesToDouble(outflow_index_single, landmask_map)[0]"
     ],
     "language": "python",
     "metadata": {},
     "outputs": [],
     "prompt_number": 5
    },
    {
     "cell_type": "code",
     "collapsed": false,
     "input": [
      "# Show the data that will be used to construct the LDD\n",
      "\n",
      "# show number of cells in data\n",
      "print '# cells:', len(all_cell_coords)\n",
      "\n",
      "# plot grid\n",
      "pcr_spatial_functions.plotGridfromCoords(all_cell_coords)"
     ],
     "language": "python",
     "metadata": {},
     "outputs": [
      {
       "output_type": "stream",
       "stream": "stdout",
       "text": [
        "# cells: 12146\n"
       ]
      },
      {
       "metadata": {},
       "output_type": "display_data",
       "png": "[encoded data removed]",
       "text": [
        "<matplotlib.figure.Figure at 0xa09b7b8>"
       ]
      }
     ],
     "prompt_number": 6
    },
    {
     "cell_type": "code",
     "collapsed": false,
     "input": [
      "# Create an empty LDD\n",
      "\n",
      "# copy the DEM\n",
      "LDD_np = np.copy(DEM_np)\n",
      "\n",
      "# set all (non-NoData) values to zero\n",
      "LDD_np[LDD_np!=-999] = 0"
     ],
     "language": "python",
     "metadata": {},
     "outputs": [],
     "prompt_number": 7
    },
    {
     "cell_type": "code",
     "collapsed": false,
     "input": [
      "# Set everything ready for LDD algorithm\n",
      "\n",
      "# create list of previously defined LDD directions\n",
      "LDD_value_list = [LDD_value_y_plus1, LDD_value_y_min1, LDD_value_x_plus1, LDD_value_x_min1]\n",
      "\n",
      "# assign a pit at the outflow point\n",
      "LDD_np[outflow_index_double] = LDD_value_pit\n",
      "\n",
      "# set first current location (double indices)\n",
      "current_location = outflow_index_double\n",
      "\n",
      "# list of remaining locations to loop over\n",
      "list_remaining_locations = []\n",
      "\n",
      "# count iterations of while-loop\n",
      "count = 0"
     ],
     "language": "python",
     "metadata": {},
     "outputs": [],
     "prompt_number": 16
    },
    {
     "cell_type": "code",
     "collapsed": false,
     "input": [
      "# LDD algorithm\n",
      "\n",
      "# loop over array until all zero values have been changed\n",
      "while 0 in LDD_np:\n",
      "    \n",
      "    # counting\n",
      "    count += 1\n",
      "    \n",
      "    # possible directions\n",
      "    location_y_plus1 = (current_location[0]+1,current_location[1])\n",
      "    if current_location[0]+1 >= len(DEM_np):\n",
      "        location_y_plus1 = -999.\n",
      "        \n",
      "    location_y_min1  = (current_location[0]-1,current_location[1])\n",
      "    if current_location[0]-1 < 0:\n",
      "        location_y_min1 = -999.\n",
      "        \n",
      "    location_x_plus1 = (current_location[0],current_location[1]+1)\n",
      "    if current_location[1]+1 >= len(DEM_np[0]):\n",
      "        location_x_plus1 = -999.\n",
      "        \n",
      "    location_x_min1  = (current_location[0],current_location[1]-1)\n",
      "    if current_location[1]-1 < 0:\n",
      "        location_x_min1 = -999.\n",
      "    \n",
      "    location_list = [location_y_plus1, location_y_min1, location_x_plus1, location_x_min1]\n",
      "    \n",
      "    # elevation values at possible connected cells\n",
      "    if location_y_plus1 != -999:\n",
      "        DEM_y_plus1 = DEM_np[location_y_plus1]\n",
      "    else:\n",
      "        DEM_y_plus1 = -999.\n",
      "    if location_y_min1 != -999:\n",
      "        DEM_y_min1  = DEM_np[location_y_min1]\n",
      "    else:\n",
      "        DEM_y_min1 = -999.\n",
      "    if location_x_plus1 != -999:\n",
      "        DEM_x_plus1 = DEM_np[location_x_plus1]\n",
      "    else:\n",
      "        DEM_x_plus1 = -999.\n",
      "    if location_x_min1 != -999:\n",
      "        DEM_x_min1  = DEM_np[location_x_min1]\n",
      "    else:\n",
      "        DEM_x_min1 = -999.\n",
      "    \n",
      "    # LDD values at possible connected cells\n",
      "    if location_y_plus1 != -999:\n",
      "        LDD_y_plus1 = LDD_np[location_y_plus1]\n",
      "    else:\n",
      "        LDD_y_plus1 = -999.\n",
      "    if location_y_min1 != -999:\n",
      "        LDD_y_min1  = LDD_np[location_y_min1]\n",
      "    else:\n",
      "        LDD_y_min1 = -999.\n",
      "    if location_x_plus1 != -999:\n",
      "        LDD_x_plus1 = LDD_np[location_x_plus1]\n",
      "    else:\n",
      "        LDD_x_plus1 = -999.\n",
      "    if location_x_min1 != -999:\n",
      "        LDD_x_min1  = LDD_np[location_x_min1]\n",
      "    else:\n",
      "        LDD_x_min1 = -999.\n",
      "    \n",
      "    list_DEM = [DEM_y_plus1, DEM_y_min1, DEM_x_plus1, DEM_x_min1]\n",
      "    list_LDD = np.array([LDD_y_plus1, LDD_y_min1, LDD_x_plus1, LDD_x_min1])\n",
      "    \n",
      "    # calculate elevation difference with current cell (for those with LDD = 0)\n",
      "    elevation_difference = np.ones(4) * -999\n",
      "    for i in range(len(list_DEM)):\n",
      "        if (list_DEM[i] != -999) and (list_LDD[i] == 0):\n",
      "            elevation_difference[i] = list_DEM[i] - DEM_np[current_location]\n",
      "    \n",
      "    # find upstream direction\n",
      "    try:\n",
      "        # find maximum elevation difference as proxy for chosen direction\n",
      "        if len(np.where(elevation_difference==-999)[0]) != 4:\n",
      "            upstream_direction = np.where(elevation_difference==max(elevation_difference))[0][0]\n",
      "            # store other potential directions\n",
      "            if len(np.where(elevation_difference!=-999)[0]) > 1:\n",
      "                list_remaining_locations.append(current_location)\n",
      "        else:\n",
      "            upstream_direction = None\n",
      "    except:\n",
      "        upstream_direction = None\n",
      "    \n",
      "    # perform actions based on found upstream direction\n",
      "    if upstream_direction != None:\n",
      "        # update current location\n",
      "        current_location = location_list[upstream_direction]\n",
      "        # adjust LDD map\n",
      "        LDD_np[current_location] = LDD_value_list[upstream_direction]\n",
      "    else:\n",
      "        # check if there are any remaining locations\n",
      "        if len(list_remaining_locations) > 0:\n",
      "            current_location = list_remaining_locations[0]\n",
      "            del list_remaining_locations[0]   \n",
      "        # if not, stop algorithm (all points should be looped over)\n",
      "        else:\n",
      "            print 'could not find any more points!'\n",
      "            print 'algorithm stopped!'\n",
      "            break\n",
      "    \n",
      "    # break while loop if this iteration count is exceeded\n",
      "    if count > break_count:\n",
      "        break"
     ],
     "language": "python",
     "metadata": {},
     "outputs": [],
     "prompt_number": 0
    },
    {
     "cell_type": "code",
     "collapsed": false,
     "input": [
      "# Check results\n",
      "\n",
      "# in case there are any 0's left, count these and make them into pits \n",
      "# (so it is at least possible to create a LDD .map file to assess results)\n",
      "count_zeros_left = 0\n",
      "for i in range(len(LDD_np)):\n",
      "    for j in range(len(LDD_np[0])):\n",
      "        if LDD_np[i][j] == 0:\n",
      "            count_zeros_left += 1\n",
      "            LDD_np[i][j] = 5\n",
      "            \n",
      "print 'number of zero values left in LDD (converted to pits):', count_zeros_left"
     ],
     "language": "python",
     "metadata": {},
     "outputs": [],
     "prompt_number": 0
    },
    {
     "cell_type": "code",
     "collapsed": false,
     "input": [
      "# Write LDD to a .map file\n",
      "\n",
      "LDD_map = pcr.ldd(pcr.numpy2pcr(pcr.Scalar,LDD_np,-999))\n",
      "\n",
      "pcr.report(LDD_map, output_path_D4_LDD)"
     ],
     "language": "python",
     "metadata": {},
     "outputs": [],
     "prompt_number": 0
    },
    {
     "cell_type": "code",
     "collapsed": false,
     "input": [],
     "language": "python",
     "metadata": {},
     "outputs": [],
     "prompt_number": 0
    },
    {
     "cell_type": "code",
     "collapsed": false,
     "input": [],
     "language": "python",
     "metadata": {},
     "outputs": [],
     "prompt_number": 0
    },
    {
     "cell_type": "code",
     "collapsed": false,
     "input": [],
     "language": "python",
     "metadata": {},
     "outputs": []
    }
   ],
   "metadata": {}
  }
 ]
}